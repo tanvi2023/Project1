{
 "cells": [
  {
   "cell_type": "code",
   "execution_count": 1,
   "id": "7f55324d-eaff-41b9-a016-15b2bf35d279",
   "metadata": {},
   "outputs": [
    {
     "name": "stdout",
     "output_type": "stream",
     "text": [
      "0    1\n",
      "1    2\n",
      "2    3\n",
      "dtype: int64\n",
      "   rollno name  marks\n",
      "0     101    a     50\n",
      "1     102    b     90\n",
      "2     103    c    100\n"
     ]
    }
   ],
   "source": [
    "#use dataframes with implementation of Pandas\n",
    "\n",
    "import pandas as pd\n",
    "l = [1,2,3]\n",
    "s = pd.Series(l)\n",
    "print(s)\n",
    "\n",
    "d = {'rollno': [101,102,103], 'name':['a','b','c'], 'marks': [50,90,100]}\n",
    "df = pd.DataFrame(d)\n",
    "print(df)"
   ]
  },
  {
   "cell_type": "code",
   "execution_count": null,
   "id": "1843bf97-1454-4682-a28a-74c415533cc4",
   "metadata": {},
   "outputs": [],
   "source": []
  }
 ],
 "metadata": {
  "kernelspec": {
   "display_name": "Python 3 (ipykernel)",
   "language": "python",
   "name": "python3"
  },
  "language_info": {
   "codemirror_mode": {
    "name": "ipython",
    "version": 3
   },
   "file_extension": ".py",
   "mimetype": "text/x-python",
   "name": "python",
   "nbconvert_exporter": "python",
   "pygments_lexer": "ipython3",
   "version": "3.11.4"
  }
 },
 "nbformat": 4,
 "nbformat_minor": 5
}
