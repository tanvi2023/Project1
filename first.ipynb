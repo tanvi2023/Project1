{
 "cells": [
  {
   "cell_type": "code",
   "execution_count": 1,
   "id": "f605cfbd-22b4-4ba2-8b1f-300400a553c5",
   "metadata": {},
   "outputs": [
    {
     "name": "stdout",
     "output_type": "stream",
     "text": [
      "Mean: 22.3\n",
      "Median: 21.0\n",
      "Mode: 15\n",
      "Variance: 40.67777777777778\n",
      "Standard Deviation: 6.377913277693401\n"
     ]
    }
   ],
   "source": [
    "# Calculate and interpret mean, median, mode, variance and standard deviation for a given dataset.  \n",
    "#Data =[ 15,21,29,21,15,24,32,21,15,30]\n",
    "\n",
    "import statistics\n",
    "\n",
    "data = [15, 21, 29, 21, 15, 24, 32, 21, 15, 30]\n",
    "\n",
    "# Calculating statistical measures\n",
    "mean_value = statistics.mean(data)\n",
    "median_value = statistics.median(data)\n",
    "mode_value = statistics.mode(data)\n",
    "variance_value = statistics.variance(data)\n",
    "std_dev_value = statistics.stdev(data)\n",
    "\n",
    "# Printing results\n",
    "print(f\"Mean: {mean_value}\")\n",
    "print(f\"Median: {median_value}\")\n",
    "print(f\"Mode: {mode_value}\")\n",
    "print(f\"Variance: {variance_value}\")\n",
    "print(f\"Standard Deviation: {std_dev_value}\")"
   ]
  },
  {
   "cell_type": "code",
   "execution_count": 2,
   "id": "3189adac-f2d9-4c20-9e8d-1e92eef8c00f",
   "metadata": {},
   "outputs": [
    {
     "name": "stdout",
     "output_type": "stream",
     "text": [
      "My name is Alice, I am 25 years old, my height is 5.6 feet, and it is True that I am a student.\n"
     ]
    }
   ],
   "source": [
    "#Write a Python program that declares variables of different data types (e.g., string, integer, float, \n",
    "#and boolean). Output the variables in a sentence format using print() and f-strings.\n",
    "\n",
    "name = \"Alice\"\n",
    "age = 25\n",
    "height = 5.6\n",
    "is_student = True\n",
    "\n",
    "# Printing results\n",
    "print(f\"My name is {name}, I am {age} years old, my height is {height} feet, and it is {is_student} that I am a student.\")\n"
   ]
  },
  {
   "cell_type": "code",
   "execution_count": 3,
   "id": "1afdea98-69fc-404a-be0c-c34585ddf933",
   "metadata": {},
   "outputs": [
    {
     "name": "stdin",
     "output_type": "stream",
     "text": [
      "Enter an integer:  5\n"
     ]
    },
    {
     "name": "stdout",
     "output_type": "stream",
     "text": [
      "The number is positive.\n"
     ]
    }
   ],
   "source": [
    "# Write a Python program that takes an integer input and checks whether the number is positive, \n",
    "#negative, or zero using conditional statements (if-else).\n",
    "\n",
    "# Taking an integer input from the user\n",
    "num = int(input(\"Enter an integer: \"))\n",
    "\n",
    "# Checking if the number is positive, negative, or zero\n",
    "if num > 0:\n",
    "    print(\"The number is positive.\")\n",
    "elif num < 0:\n",
    "    print(\"The number is negative.\")\n",
    "else:\n",
    "    print(\"The number is zero.\")\n"
   ]
  },
  {
   "cell_type": "code",
   "execution_count": 4,
   "id": "9be1fe3d-8c0d-451e-b1de-b45f6b0fed99",
   "metadata": {},
   "outputs": [
    {
     "name": "stdin",
     "output_type": "stream",
     "text": [
      "Enter a number:  5\n"
     ]
    },
    {
     "name": "stdout",
     "output_type": "stream",
     "text": [
      "Multiplication table for 5:\n",
      "5 x 1 = 5\n",
      "5 x 2 = 10\n",
      "5 x 3 = 15\n",
      "5 x 4 = 20\n",
      "5 x 5 = 25\n",
      "5 x 6 = 30\n",
      "5 x 7 = 35\n",
      "5 x 8 = 40\n",
      "5 x 9 = 45\n",
      "5 x 10 = 50\n"
     ]
    }
   ],
   "source": [
    "#Write a Python program that takes a number as input and prints the multiplication table \n",
    "#for that number (from 1 to 10). \n",
    "\n",
    "# Taking a number as input from the user\n",
    "num = int(input(\"Enter a number: \"))\n",
    "\n",
    "# Printing multiplication table for the given number\n",
    "print(f\"Multiplication table for {num}:\")\n",
    "for i in range(1, 11):\n",
    "    print(f\"{num} x {i} = {num * i}\")"
   ]
  },
  {
   "cell_type": "code",
   "execution_count": 5,
   "id": "0e1bfabc-899e-419b-a04c-9a226bbf59dd",
   "metadata": {},
   "outputs": [
    {
     "name": "stdout",
     "output_type": "stream",
     "text": [
      "List of fruits: ['Apple', 'Banana', 'Cherry', 'Orange', 'Grapes']\n",
      "After adding Mango: ['Apple', 'Banana', 'Cherry', 'Orange', 'Grapes', 'Mango']\n",
      "After removing Cherry: ['Apple', 'Banana', 'Orange', 'Grapes', 'Mango']\n",
      "Sorted list of fruits: ['Apple', 'Banana', 'Grapes', 'Mango', 'Orange']\n",
      "Reversed list of fruits: ['Orange', 'Mango', 'Grapes', 'Banana', 'Apple']\n"
     ]
    }
   ],
   "source": [
    "#Create a Python list that contains the names of 5 different fruits. Perform the given operations on \n",
    "#the list. \n",
    "\n",
    "# Creating a list of 5 different fruits\n",
    "fruits = [\"Apple\", \"Banana\", \"Cherry\", \"Orange\", \"Grapes\"]\n",
    "\n",
    "# Printing the list of fruits\n",
    "print(\"List of fruits:\", fruits)\n",
    "\n",
    "# Adding a new fruit to the list\n",
    "fruits.append(\"Mango\")\n",
    "print(\"After adding Mango:\", fruits)\n",
    "\n",
    "# Removing a fruit from the list\n",
    "fruits.remove(\"Cherry\")\n",
    "print(\"After removing Cherry:\", fruits)\n",
    "\n",
    "# Sorting the list alphabetically\n",
    "fruits.sort()\n",
    "print(\"Sorted list of fruits:\", fruits)\n",
    "\n",
    "# Reversing the list\n",
    "fruits.reverse()\n",
    "print(\"Reversed list of fruits:\", fruits)\n"
   ]
  },
  {
   "cell_type": "code",
   "execution_count": 6,
   "id": "f459149a-5d3f-4e9b-98be-978a17f540c8",
   "metadata": {},
   "outputs": [
    {
     "name": "stdout",
     "output_type": "stream",
     "text": [
      "Tuple of numbers: (10, 20, 30, 40, 50)\n",
      "Second element: 20\n",
      "First three elements: (10, 20, 30)\n",
      "Length of tuple: 5\n",
      "Sum of tuple elements: 150\n"
     ]
    }
   ],
   "source": [
    "# Write a Python program that creates a tuple containing 5 numbers. Perform the given operations \n",
    "#on the tuple. \n",
    "\n",
    "\n",
    "# Creating a tuple containing 5 numbers\n",
    "numbers = (10, 20, 30, 40, 50)\n",
    "\n",
    "# Printing the tuple\n",
    "print(\"Tuple of numbers:\", numbers)\n",
    "\n",
    "# Accessing an element from the tuple\n",
    "print(\"Second element:\", numbers[1])\n",
    "\n",
    "# Slicing the tuple\n",
    "print(\"First three elements:\", numbers[:3])\n",
    "\n",
    "# Finding the length of the tuple\n",
    "print(\"Length of tuple:\", len(numbers))\n",
    "\n",
    "# Finding the sum of elements in the tuple\n",
    "print(\"Sum of tuple elements:\", sum(numbers))"
   ]
  },
  {
   "cell_type": "code",
   "execution_count": 7,
   "id": "e44c9ead-a279-43ea-9696-7ae36cb94e99",
   "metadata": {},
   "outputs": [
    {
     "name": "stdout",
     "output_type": "stream",
     "text": [
      "Student marks in mathematics: {'Alice': 85, 'Bob': 78, 'Charlie': 92}\n",
      "Marks of Alice: 85\n",
      "After adding David: {'Alice': 85, 'Bob': 78, 'Charlie': 92, 'David': 88}\n",
      "After updating Bob's marks: {'Alice': 85, 'Bob': 82, 'Charlie': 92, 'David': 88}\n",
      "After removing Charlie: {'Alice': 85, 'Bob': 82, 'David': 88}\n",
      "List of students: ['Alice', 'Bob', 'David']\n",
      "List of marks: [85, 82, 88]\n"
     ]
    }
   ],
   "source": [
    "#Create a dictionary that stores the names of 3 students as keys and their marks in mathematics as \n",
    "#values. Perform the given operations.\n",
    "\n",
    "# Creating a dictionary with student names as keys and their mathematics marks as values\n",
    "students_marks = {\n",
    "    \"Alice\": 85,\n",
    "    \"Bob\": 78,\n",
    "    \"Charlie\": 92\n",
    "}\n",
    "\n",
    "# Printing the dictionary\n",
    "print(\"Student marks in mathematics:\", students_marks)\n",
    "\n",
    "# Accessing marks of a specific student\n",
    "print(\"Marks of Alice:\", students_marks[\"Alice\"])\n",
    "\n",
    "# Adding a new student to the dictionary\n",
    "students_marks[\"David\"] = 88\n",
    "print(\"After adding David:\", students_marks)\n",
    "\n",
    "# Updating marks of an existing student\n",
    "students_marks[\"Bob\"] = 82\n",
    "print(\"After updating Bob's marks:\", students_marks)\n",
    "\n",
    "# Removing a student from the dictionary\n",
    "del students_marks[\"Charlie\"]\n",
    "print(\"After removing Charlie:\", students_marks)\n",
    "\n",
    "# Printing all student names\n",
    "print(\"List of students:\", list(students_marks.keys()))\n",
    "\n",
    "# Printing all marks\n",
    "print(\"List of marks:\", list(students_marks.values()))\n"
   ]
  },
  {
   "cell_type": "code",
   "execution_count": 8,
   "id": "64f6bdc4-b692-4536-ac23-659fd5ab8a5a",
   "metadata": {},
   "outputs": [
    {
     "name": "stdout",
     "output_type": "stream",
     "text": [
      "Set 1: {1, 2, 3, 4, 5}\n",
      "Set 2: {4, 5, 6, 7, 8}\n",
      "Union of sets: {1, 2, 3, 4, 5, 6, 7, 8}\n",
      "Intersection of sets: {4, 5}\n",
      "Difference (Set1 - Set2): {1, 2, 3}\n",
      "Symmetric Difference of sets: {1, 2, 3, 6, 7, 8}\n"
     ]
    }
   ],
   "source": [
    "#Create two sets of integers. Perform the given set operations.\n",
    "\n",
    "# Creating two sets of integers\n",
    "set1 = {1, 2, 3, 4, 5}\n",
    "set2 = {4, 5, 6, 7, 8}\n",
    "\n",
    "# Printing the sets\n",
    "print(\"Set 1:\", set1)\n",
    "print(\"Set 2:\", set2)\n",
    "\n",
    "# Performing set operations\n",
    "union_set = set1.union(set2)\n",
    "print(\"Union of sets:\", union_set)\n",
    "\n",
    "intersection_set = set1.intersection(set2)\n",
    "print(\"Intersection of sets:\", intersection_set)\n",
    "\n",
    "set_difference = set1.difference(set2)\n",
    "print(\"Difference (Set1 - Set2):\", set_difference)\n",
    "\n",
    "symmetric_difference_set = set1.symmetric_difference(set2)\n",
    "print(\"Symmetric Difference of sets:\", symmetric_difference_set)\n"
   ]
  },
  {
   "cell_type": "code",
   "execution_count": 9,
   "id": "65f55fdf-d9b0-4f44-8dc5-1152b25dcc20",
   "metadata": {},
   "outputs": [
    {
     "name": "stdout",
     "output_type": "stream",
     "text": [
      "Set 1: {1, 2, 3, 4, 5}\n",
      "Set 2: {4, 5, 6, 7, 8}\n",
      "Union of sets: {1, 2, 3, 4, 5, 6, 7, 8}\n",
      "Intersection of sets: {4, 5}\n",
      "Difference (Set1 - Set2): {1, 2, 3}\n",
      "Symmetric Difference of sets: {1, 2, 3, 6, 7, 8}\n",
      "The largest number in the list is: 89\n"
     ]
    }
   ],
   "source": [
    "#Write a Python function called find_largest() that takes a list of numbers as input and returns the \n",
    "#largest number from the list. Test the function with a sample list.\n",
    "\n",
    "# Creating two sets of integers\n",
    "set1 = {1, 2, 3, 4, 5}\n",
    "set2 = {4, 5, 6, 7, 8}\n",
    "\n",
    "# Printing the sets\n",
    "print(\"Set 1:\", set1)\n",
    "print(\"Set 2:\", set2)\n",
    "\n",
    "# Performing set operations\n",
    "union_set = set1.union(set2)\n",
    "print(\"Union of sets:\", union_set)\n",
    "\n",
    "intersection_set = set1.intersection(set2)\n",
    "print(\"Intersection of sets:\", intersection_set)\n",
    "\n",
    "set_difference = set1.difference(set2)\n",
    "print(\"Difference (Set1 - Set2):\", set_difference)\n",
    "\n",
    "symmetric_difference_set = set1.symmetric_difference(set2)\n",
    "print(\"Symmetric Difference of sets:\", symmetric_difference_set)\n",
    "\n",
    "# Function to find the largest number in a list\n",
    "def find_largest(numbers):\n",
    "    return max(numbers)\n",
    "\n",
    "# Testing the function with a sample list\n",
    "sample_list = [10, 25, 37, 4, 89, 56]\n",
    "largest_number = find_largest(sample_list)\n",
    "print(\"The largest number in the list is:\", largest_number)\n"
   ]
  },
  {
   "cell_type": "code",
   "execution_count": 10,
   "id": "ca559572-7dc0-4024-8b15-d1cded734350",
   "metadata": {},
   "outputs": [
    {
     "name": "stdout",
     "output_type": "stream",
     "text": [
      "Squares of even numbers between 1 and 20: [4, 16, 36, 64, 100, 144, 196, 256, 324, 400]\n"
     ]
    }
   ],
   "source": [
    " #Use list comprehension to create a list of squares of all even numbers between 1 and 20.\n",
    "\n",
    "# List comprehension to create a list of squares of even numbers between 1 and 20\n",
    "even_squares = [x**2 for x in range(1, 21) if x % 2 == 0]\n",
    "print(\"Squares of even numbers between 1 and 20:\", even_squares)\n"
   ]
  },
  {
   "cell_type": "code",
   "execution_count": 11,
   "id": "51ca7603-3426-4c18-b7d0-6bd135230f3e",
   "metadata": {},
   "outputs": [
    {
     "name": "stdin",
     "output_type": "stream",
     "text": [
      "Enter the first number:  5\n",
      "Enter the second number:  6\n"
     ]
    },
    {
     "name": "stdout",
     "output_type": "stream",
     "text": [
      "The product of 5 and 6 is: 30\n"
     ]
    }
   ],
   "source": [
    "#Write a Python script that uses a lambda function to calculate the product of two numbers provided \n",
    "#by the user.\n",
    "\n",
    "# Lambda function to calculate the product of two numbers\n",
    "product = lambda x, y: x * y\n",
    "\n",
    "# Taking user input\n",
    "num1 = int(input(\"Enter the first number: \"))\n",
    "num2 = int(input(\"Enter the second number: \"))\n",
    "\n",
    "# Calculating and printing the product\n",
    "print(f\"The product of {num1} and {num2} is: {product(num1, num2)}\")"
   ]
  },
  {
   "cell_type": "code",
   "execution_count": 12,
   "id": "10472bf8-74bf-4bda-b455-ea29afb00797",
   "metadata": {},
   "outputs": [
    {
     "name": "stdout",
     "output_type": "stream",
     "text": [
      "One-Dimensional Array: [1 2 3 4 5]\n",
      "Shape: (5,)\n",
      "Dimensions: 1\n",
      "\n",
      "Two-Dimensional Array:\n",
      " [[1 2 3]\n",
      " [4 5 6]]\n",
      "Shape: (2, 3)\n",
      "Dimensions: 2\n",
      "\n",
      "Three-Dimensional Array:\n",
      " [[[1 2]\n",
      "  [3 4]]\n",
      "\n",
      " [[5 6]\n",
      "  [7 8]]]\n",
      "Shape: (2, 2, 2)\n",
      "Dimensions: 3\n"
     ]
    }
   ],
   "source": [
    "#Write a Python program to create a one-dimensional, two-dimensional, and three-dimensional \n",
    "#NumPy array. Print the shape and dimensions of each array.\n",
    "\n",
    "import numpy as np\n",
    "\n",
    "# Creating a one-dimensional NumPy array\n",
    "one_d_array = np.array([1, 2, 3, 4, 5])\n",
    "print(\"One-Dimensional Array:\", one_d_array)\n",
    "print(\"Shape:\", one_d_array.shape)\n",
    "print(\"Dimensions:\", one_d_array.ndim)\n",
    "\n",
    "# Creating a two-dimensional NumPy array\n",
    "two_d_array = np.array([[1, 2, 3], [4, 5, 6]])\n",
    "print(\"\\nTwo-Dimensional Array:\\n\", two_d_array)\n",
    "print(\"Shape:\", two_d_array.shape)\n",
    "print(\"Dimensions:\", two_d_array.ndim)\n",
    "\n",
    "# Creating a three-dimensional NumPy array\n",
    "three_d_array = np.array([[[1, 2], [3, 4]], [[5, 6], [7, 8]]])\n",
    "print(\"\\nThree-Dimensional Array:\\n\", three_d_array)\n",
    "print(\"Shape:\", three_d_array.shape)\n",
    "print(\"Dimensions:\", three_d_array.ndim)\n"
   ]
  },
  {
   "cell_type": "code",
   "execution_count": 14,
   "id": "374b4d6c-9020-47c8-b982-bd160bc7ab11",
   "metadata": {},
   "outputs": [
    {
     "name": "stdout",
     "output_type": "stream",
     "text": [
      "5x5 Random Integer Array:\n",
      " [[44 41 14 31 26]\n",
      " [35 70 57 85 45]\n",
      " [92 34 23 94  5]\n",
      " [32 11 90 43 48]\n",
      " [39 68  1  3 88]]\n",
      "\n",
      "Element at row 2, column 3: 57\n",
      "First row: [44 41 14 31 26]\n",
      "Last column: [26 45  5 48 88]\n",
      "Subarray (first 3 rows, first 3 columns):\n",
      " [[44 41 14]\n",
      " [35 70 57]\n",
      " [92 34 23]]\n"
     ]
    }
   ],
   "source": [
    "#Write a Python program to create a 5x5 NumPy array of random integers and Perform array \n",
    "#indexing as given.\n",
    "\n",
    "import numpy as np\n",
    "\n",
    "# Creating a 5x5 NumPy array of random integers between 1 and 100\n",
    "random_array = np.random.randint(1, 101, (5, 5))\n",
    "print(\"5x5 Random Integer Array:\\n\", random_array)\n",
    "\n",
    "# Performing array indexing\n",
    "print(\"\\nElement at row 2, column 3:\", random_array[1, 2])\n",
    "print(\"First row:\", random_array[0, :])\n",
    "print(\"Last column:\", random_array[:, -1])\n",
    "print(\"Subarray (first 3 rows, first 3 columns):\\n\", random_array[:3, :3])\n"
   ]
  },
  {
   "cell_type": "code",
   "execution_count": 15,
   "id": "289c33fa-98ba-4f47-a39b-735bbbdbd806",
   "metadata": {},
   "outputs": [
    {
     "name": "stdout",
     "output_type": "stream",
     "text": [
      "4x4 NumPy Array:\n",
      " [[ 1  2  3  4]\n",
      " [ 5  6  7  8]\n",
      " [ 9 10 11 12]\n",
      " [13 14 15 16]]\n",
      "\n",
      "First two rows:\n",
      " [[1 2 3 4]\n",
      " [5 6 7 8]]\n",
      "Last two columns:\n",
      " [[ 3  4]\n",
      " [ 7  8]\n",
      " [11 12]\n",
      " [15 16]]\n",
      "Subarray (middle 2x2 block):\n",
      " [[ 6  7]\n",
      " [10 11]]\n",
      "Diagonal elements: [ 1  6 11 16]\n"
     ]
    }
   ],
   "source": [
    "#create a NumPy array of shape (4, 4) containing numbers from 1 to 16. Use slicing to extract for \n",
    "#the given conditions \n",
    "\n",
    "import numpy as np\n",
    "\n",
    "# Creating a 4x4 NumPy array containing numbers from 1 to 16\n",
    "array_4x4 = np.arange(1, 17).reshape(4, 4)\n",
    "print(\"4x4 NumPy Array:\\n\", array_4x4)\n",
    "\n",
    "# Performing slicing operations\n",
    "print(\"\\nFirst two rows:\\n\", array_4x4[:2, :])\n",
    "print(\"Last two columns:\\n\", array_4x4[:, -2:])\n",
    "print(\"Subarray (middle 2x2 block):\\n\", array_4x4[1:3, 1:3])\n",
    "print(\"Diagonal elements:\", array_4x4.diagonal())"
   ]
  },
  {
   "cell_type": "code",
   "execution_count": 16,
   "id": "7adcc6ab-aec6-4535-8a80-60308ec681c0",
   "metadata": {},
   "outputs": [
    {
     "name": "stdout",
     "output_type": "stream",
     "text": [
      "2D Array (6x2):\n",
      " [[ 1  2]\n",
      " [ 3  4]\n",
      " [ 5  6]\n",
      " [ 7  8]\n",
      " [ 9 10]\n",
      " [11 12]]\n",
      "\n",
      "Reshaped 3D Array (2x3x2):\n",
      " [[[ 1  2]\n",
      "  [ 3  4]\n",
      "  [ 5  6]]\n",
      "\n",
      " [[ 7  8]\n",
      "  [ 9 10]\n",
      "  [11 12]]]\n",
      "\n",
      "Flattened Array: [ 1  2  3  4  5  6  7  8  9 10 11 12]\n"
     ]
    }
   ],
   "source": [
    "#Write a Python program that creates a 2D array of shape (6, 2) using np.arange() and then reshapes \n",
    "#it into a 3D array of shape (2, 3, 2). Flatten the reshaped array and print the result. \n",
    "\n",
    "import numpy as np\n",
    "\n",
    "# Creating a 2D array of shape (6, 2) using np.arange()\n",
    "array_2d = np.arange(1, 13).reshape(6, 2)\n",
    "print(\"2D Array (6x2):\\n\", array_2d)\n",
    "\n",
    "# Reshaping the array into a 3D array of shape (2, 3, 2)\n",
    "array_3d = array_2d.reshape(2, 3, 2)\n",
    "print(\"\\nReshaped 3D Array (2x3x2):\\n\", array_3d)\n",
    "\n",
    "# Flattening the reshaped array\n",
    "flattened_array = array_3d.flatten()\n",
    "print(\"\\nFlattened Array:\", flattened_array)"
   ]
  },
  {
   "cell_type": "code",
   "execution_count": 17,
   "id": "570642f8-1f2a-402a-856f-13f0a653ef1e",
   "metadata": {},
   "outputs": [
    {
     "name": "stdout",
     "output_type": "stream",
     "text": [
      "Original 3x3 Array:\n",
      " [[1 2 3]\n",
      " [4 5 6]\n",
      " [7 8 9]]\n",
      "\n",
      "1D Array:\n",
      " [10 20 30]\n",
      "\n",
      "Result after Broadcasting:\n",
      " [[11 22 33]\n",
      " [14 25 36]\n",
      " [17 28 39]]\n"
     ]
    }
   ],
   "source": [
    "#Write a Python program to demonstrate broadcasting. Create an array of shape (3, 3) and add a one\n",
    "#dimensional array of shape (1, 3) to it using broadcasting.\n",
    "\n",
    "import numpy as np\n",
    "\n",
    "# Creating a 3x3 array\n",
    "array_2d = np.array([[1, 2, 3], [4, 5, 6], [7, 8, 9]])\n",
    "print(\"Original 3x3 Array:\\n\", array_2d)\n",
    "\n",
    "# Creating a 1D array of shape (1, 3)\n",
    "array_1d = np.array([10, 20, 30])\n",
    "print(\"\\n1D Array:\\n\", array_1d)\n",
    "\n",
    "# Using broadcasting to add the 1D array to the 3x3 array\n",
    "broadcasted_result = array_2d + array_1d\n",
    "print(\"\\nResult after Broadcasting:\\n\", broadcasted_result)\n"
   ]
  },
  {
   "cell_type": "code",
   "execution_count": 18,
   "id": "beeea233-0fda-4b49-9cd8-e75d0df7aa39",
   "metadata": {},
   "outputs": [
    {
     "name": "stdout",
     "output_type": "stream",
     "text": [
      "Array A:\n",
      " [[1 2 3]\n",
      " [4 5 6]\n",
      " [7 8 9]]\n",
      "\n",
      "Array B:\n",
      " [[9 8 7]\n",
      " [6 5 4]\n",
      " [3 2 1]]\n",
      "\n",
      "Element-wise Addition:\n",
      " [[10 10 10]\n",
      " [10 10 10]\n",
      " [10 10 10]]\n",
      "\n",
      "Element-wise Subtraction:\n",
      " [[-8 -6 -4]\n",
      " [-2  0  2]\n",
      " [ 4  6  8]]\n",
      "\n",
      "Element-wise Multiplication:\n",
      " [[ 9 16 21]\n",
      " [24 25 24]\n",
      " [21 16  9]]\n",
      "\n",
      "Element-wise Division:\n",
      " [[0.11111111 0.25       0.42857143]\n",
      " [0.66666667 1.         1.5       ]\n",
      " [2.33333333 4.         9.        ]]\n"
     ]
    }
   ],
   "source": [
    "#Create two NumPy arrays of the same shape, A and B. Perform the following arithmetic operations: \n",
    "#Element-wise addition. \n",
    "#Element-wise subtraction. \n",
    "#Element-wise multiplication. \n",
    "#Element-wise division\n",
    "import numpy as np\n",
    "\n",
    "# Creating two NumPy arrays of the same shape\n",
    "A = np.array([[1, 2, 3], [4, 5, 6], [7, 8, 9]])\n",
    "B = np.array([[9, 8, 7], [6, 5, 4], [3, 2, 1]])\n",
    "\n",
    "print(\"Array A:\\n\", A)\n",
    "print(\"\\nArray B:\\n\", B)\n",
    "\n",
    "# Performing arithmetic operations\n",
    "addition_result = A + B\n",
    "print(\"\\nElement-wise Addition:\\n\", addition_result)\n",
    "\n",
    "subtraction_result = A - B\n",
    "print(\"\\nElement-wise Subtraction:\\n\", subtraction_result)\n",
    "\n",
    "multiplication_result = A * B\n",
    "print(\"\\nElement-wise Multiplication:\\n\", multiplication_result)\n",
    "\n",
    "division_result = A / B\n",
    "print(\"\\nElement-wise Division:\\n\", division_result)\n",
    "\n"
   ]
  },
  {
   "cell_type": "code",
   "execution_count": 1,
   "id": "0ef0f9ea-fbf8-4e53-b119-3f3f47f0a0f0",
   "metadata": {},
   "outputs": [
    {
     "name": "stdout",
     "output_type": "stream",
     "text": [
      "      Name  Math  Science  English  Total Grade\n",
      "0    Alice    85       90       88    263     B\n",
      "1      Bob    78       82       76    236     C\n",
      "2  Charlie    92       88       80    260     B\n",
      "3    David    60       75       70    205     D\n",
      "4     Emma    89       95       90    274     A\n"
     ]
    }
   ],
   "source": [
    "#Create a Pandas DataFrame with the given Name and marks of 3 courses: \n",
    "#Add a new column named 'Total' that represents the sum of all the courses. Add 'Grade' based \n",
    "#on the values of the 'Total'. Print the updated DataFrame with the new 'Total' and 'Grade' \n",
    "#column. \n",
    "\n",
    "import pandas as pd\n",
    "\n",
    "# Creating a DataFrame with student names and marks\n",
    "data = {\n",
    "    'Name': ['Alice', 'Bob', 'Charlie', 'David', 'Emma'],\n",
    "    'Math': [85, 78, 92, 60, 89],\n",
    "    'Science': [90, 82, 88, 75, 95],\n",
    "    'English': [88, 76, 80, 70, 90]\n",
    "}\n",
    "df = pd.DataFrame(data)\n",
    "\n",
    "# Adding 'Total' column\n",
    "df['Total'] = df[['Math', 'Science', 'English']].sum(axis=1)\n",
    "\n",
    "# Function to determine grade\n",
    "def assign_grade(total):\n",
    "    if total >= 270:\n",
    "        return 'A'\n",
    "    elif total >= 240:\n",
    "        return 'B'\n",
    "    elif total >= 210:\n",
    "        return 'C'\n",
    "    elif total >= 180:\n",
    "        return 'D'\n",
    "    else:\n",
    "        return 'F'\n",
    "\n",
    "# Adding 'Grade' column\n",
    "df['Grade'] = df['Total'].apply(assign_grade)\n",
    "\n",
    "# Printing the updated DataFrame\n",
    "print(df)\n"
   ]
  },
  {
   "cell_type": "code",
   "execution_count": null,
   "id": "2c6b5b87-4936-4b9c-9cc5-6070649a3a62",
   "metadata": {},
   "outputs": [],
   "source": []
  }
 ],
 "metadata": {
  "kernelspec": {
   "display_name": "Python 3 (ipykernel)",
   "language": "python",
   "name": "python3"
  },
  "language_info": {
   "codemirror_mode": {
    "name": "ipython",
    "version": 3
   },
   "file_extension": ".py",
   "mimetype": "text/x-python",
   "name": "python",
   "nbconvert_exporter": "python",
   "pygments_lexer": "ipython3",
   "version": "3.13.2"
  }
 },
 "nbformat": 4,
 "nbformat_minor": 5
}
