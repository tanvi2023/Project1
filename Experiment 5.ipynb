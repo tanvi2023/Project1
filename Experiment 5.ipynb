{
 "cells": [
  {
   "cell_type": "code",
   "execution_count": 1,
   "id": "a6b2f5e1-a1ec-4ade-9576-f2bd9930ed68",
   "metadata": {},
   "outputs": [
    {
     "name": "stdout",
     "output_type": "stream",
     "text": [
      "Best x: -11.6736641312698, Best value: 89.5797777246159\n"
     ]
    }
   ],
   "source": [
    "import random\n",
    "\n",
    "def objective_function(x):\n",
    "    return (x ** 2) + 4 * x  # function x^2 + 4x\n",
    "\n",
    "def hill_climb(start, step_size, iterations):\n",
    "    current_x = start\n",
    "    current_value = objective_function(current_x)\n",
    "    \n",
    "    for _ in range(iterations):\n",
    "        next_x = current_x + random.choice([-step_size, step_size])\n",
    "        next_value = objective_function(next_x)\n",
    "\n",
    "        if next_value > current_value:\n",
    "            current_x = next_x\n",
    "            current_value = next_value\n",
    "    \n",
    "    return current_x, current_value\n",
    "\n",
    "best_x, best_value = hill_climb(start=random.uniform(-10,10), step_size=0.1, iterations=100)\n",
    "\n",
    "print(f\"Best x: {best_x}, Best value: {best_value}\")"
   ]
  },
  {
   "cell_type": "code",
   "execution_count": null,
   "id": "199b23f5-7ea8-451c-81b7-8f01cda5d9d4",
   "metadata": {},
   "outputs": [],
   "source": []
  }
 ],
 "metadata": {
  "kernelspec": {
   "display_name": "Python 3 (ipykernel)",
   "language": "python",
   "name": "python3"
  },
  "language_info": {
   "codemirror_mode": {
    "name": "ipython",
    "version": 3
   },
   "file_extension": ".py",
   "mimetype": "text/x-python",
   "name": "python",
   "nbconvert_exporter": "python",
   "pygments_lexer": "ipython3",
   "version": "3.11.4"
  }
 },
 "nbformat": 4,
 "nbformat_minor": 5
}
