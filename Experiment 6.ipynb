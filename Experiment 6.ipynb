{
 "cells": [
  {
   "cell_type": "code",
   "execution_count": 1,
   "id": "64701fff-8685-41d5-8e31-80e1eeb2af26",
   "metadata": {},
   "outputs": [
    {
     "name": "stdout",
     "output_type": "stream",
     "text": [
      "Optimal value: 3\n"
     ]
    }
   ],
   "source": [
    "import math\n",
    "\n",
    "def alpha_beta_pruning(node, depth, alpha, beta, maximizing_player):\n",
    "    if depth == 0 or isinstance(node, int):  # Leaf node or depth limit reached\n",
    "        return node\n",
    "    \n",
    "    if maximizing_player:\n",
    "        max_eval = -math.inf\n",
    "        for child in node:\n",
    "            eval = alpha_beta_pruning(child, depth - 1, alpha, beta, False)\n",
    "            max_eval = max(max_eval, eval)\n",
    "            alpha = max(alpha, eval)\n",
    "            if beta <= alpha:\n",
    "                break  # Beta cutoff\n",
    "        return max_eval\n",
    "    else:\n",
    "        min_eval = math.inf\n",
    "        for child in node:\n",
    "            eval = alpha_beta_pruning(child, depth - 1, alpha, beta, True)\n",
    "            min_eval = min(min_eval, eval)\n",
    "            beta = min(beta, eval)\n",
    "            if beta <= alpha:\n",
    "                break  # Alpha cutoff\n",
    "        return min_eval\n",
    "\n",
    "# Example game tree (Nested lists where leaf nodes contain values)\n",
    "game_tree = [\n",
    "    [3, 5, 6],\n",
    "    [9, 1, 2],\n",
    "    [0, -1, 4]\n",
    "]\n",
    "\n",
    "# Running the Alpha-Beta Pruning algorithm\n",
    "result = alpha_beta_pruning(game_tree, depth=3, alpha=-math.inf, beta=math.inf, maximizing_player=True)\n",
    "print(\"Optimal value:\", result)"
   ]
  },
  {
   "cell_type": "code",
   "execution_count": null,
   "id": "a2a00104-4600-4d2b-b738-f96d35d7eda2",
   "metadata": {},
   "outputs": [],
   "source": []
  }
 ],
 "metadata": {
  "kernelspec": {
   "display_name": "Python 3 (ipykernel)",
   "language": "python",
   "name": "python3"
  },
  "language_info": {
   "codemirror_mode": {
    "name": "ipython",
    "version": 3
   },
   "file_extension": ".py",
   "mimetype": "text/x-python",
   "name": "python",
   "nbconvert_exporter": "python",
   "pygments_lexer": "ipython3",
   "version": "3.11.4"
  }
 },
 "nbformat": 4,
 "nbformat_minor": 5
}
